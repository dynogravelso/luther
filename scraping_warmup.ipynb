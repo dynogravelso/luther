{
 "cells": [
  {
   "cell_type": "code",
   "execution_count": null,
   "metadata": {},
   "outputs": [],
   "source": [
    "#import modules for web scraping\n",
    "from __future__ import print_function, division\n",
    "import requests\n",
    "from bs4 import BeautifulSoup"
   ]
  },
  {
   "cell_type": "code",
   "execution_count": 55,
   "metadata": {},
   "outputs": [],
   "source": [
    "#get html code\n",
    "url = 'https://www.boxofficemojo.com/alltime/domestic.htm'\n",
    "response = requests.get(url)"
   ]
  },
  {
   "cell_type": "code",
   "execution_count": 56,
   "metadata": {},
   "outputs": [
    {
     "data": {
      "text/plain": [
       "200"
      ]
     },
     "execution_count": 56,
     "metadata": {},
     "output_type": "execute_result"
    }
   ],
   "source": [
    "#check if it worked\n",
    "response.status_code"
   ]
  },
  {
   "cell_type": "code",
   "execution_count": null,
   "metadata": {},
   "outputs": [],
   "source": [
    "#make soup\n",
    "page = response.text\n",
    "soup_domestic = BeautifulSoup(page,\"lxml\")"
   ]
  },
  {
   "cell_type": "code",
   "execution_count": null,
   "metadata": {},
   "outputs": [],
   "source": [
    "print(soup_domestic.prettify())"
   ]
  },
  {
   "cell_type": "code",
   "execution_count": null,
   "metadata": {},
   "outputs": [],
   "source": [
    "tables=soup_domestic.find_all(\"table\")\n",
    "rows=[row for row in tables[5].find_all('tr')]\n",
    "columns = rows[0]\n",
    "rows = rows[1:20]\n",
    "\n",
    "# for row in rows:\n",
    "#     print(row)\n",
    "#     print()\n",
    "\n",
    "movies = {}\n",
    "for row in rows:\n",
    "    test_items = row.find_all('td')\n",
    "    test_title = test_items[1].find('a')['href']\n",
    "    movies[test_title] = [i.text for i in test_items[1:]]\n",
    "\n",
    "columns = columns.find_all('a')\n",
    "columns = [column.text for column in columns][1:]\n",
    "\n",
    "# print(movies)\n",
    "\n",
    "# list(movies.keys())\n",
    "# import defaultdict\n",
    "\n",
    "# movies_dict_for_df = defaultdict()\n",
    "# for key in movies:\n",
    "#     movies[key][0] = "
   ]
  },
  {
   "cell_type": "code",
   "execution_count": 254,
   "metadata": {},
   "outputs": [
    {
     "data": {
      "text/plain": [
       "['Title', 'Studio', 'Lifetime Gross', 'Year']"
      ]
     },
     "execution_count": 254,
     "metadata": {},
     "output_type": "execute_result"
    }
   ],
   "source": [
    "#clean the title with regex as an exercise\n",
    "import re\n",
    "\n",
    "pattern = re.compile(r'[a-zA-z ]+')\n",
    "# for column in columns:\n",
    "#     pattern.search(column).group(0)\n",
    "#     print(column)\n",
    "\n",
    "columns = [pattern.search(column).group(0) for column in columns]\n",
    "columns = [column.replace('^','') for column in columns]\n",
    "\n",
    "column_names = columns\n",
    "column_names\n",
    "    \n",
    "# columns[0] = 'Title'\n",
    "# columns[-1] = 'Year'\n"
   ]
  },
  {
   "cell_type": "code",
   "execution_count": null,
   "metadata": {},
   "outputs": [],
   "source": [
    "import pandas as pd\n",
    "import numpy as np\n",
    "import matplotlib.pyplot as plt\n",
    "import seaborn as sns\n",
    "\n",
    "pd.set_option('display.max_columns', None)\n",
    "pd.set_option('display.max_rows', None)\n",
    "pd.set_option('display.precision', 3)\n",
    "\n",
    "%matplotlib inline"
   ]
  },
  {
   "cell_type": "code",
   "execution_count": null,
   "metadata": {},
   "outputs": [],
   "source": [
    "#first rough df for the domestic gross figures for movies\n",
    "domestic_df = pd.DataFrame(list(movies.values()), columns = column_names)\n",
    "domestic_df.head()"
   ]
  },
  {
   "cell_type": "code",
   "execution_count": null,
   "metadata": {},
   "outputs": [],
   "source": []
  }
 ],
 "metadata": {
  "kernelspec": {
   "display_name": "Python 3",
   "language": "python",
   "name": "python3"
  },
  "language_info": {
   "codemirror_mode": {
    "name": "ipython",
    "version": 3
   },
   "file_extension": ".py",
   "mimetype": "text/x-python",
   "name": "python",
   "nbconvert_exporter": "python",
   "pygments_lexer": "ipython3",
   "version": "3.6.6"
  }
 },
 "nbformat": 4,
 "nbformat_minor": 2
}
