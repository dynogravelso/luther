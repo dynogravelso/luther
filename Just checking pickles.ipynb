{
 "cells": [
  {
   "cell_type": "code",
   "execution_count": null,
   "metadata": {},
   "outputs": [],
   "source": []
  },
  {
   "cell_type": "code",
   "execution_count": 2,
   "metadata": {},
   "outputs": [],
   "source": [
    "import pickle\n",
    "with open(\"all_resorts.pkl\", 'rb') as picklefile: \n",
    "    resort_dict = pickle.load(picklefile)\n",
    "states = [state for state in resort_dict]"
   ]
  },
  {
   "cell_type": "code",
   "execution_count": 14,
   "metadata": {},
   "outputs": [
    {
     "data": {
      "text/plain": [
       "{'Anthony Lakes Mountain Resort': ['131 \"',\n",
       "  '30',\n",
       "  '66 \"',\n",
       "  '47 \"',\n",
       "  '66 \"',\n",
       "  '48 \"',\n",
       "  '13 \"'],\n",
       " 'Hoodoo Ski Area': ['172 \"', '49', '93 \"', '48 \"', '98 \"', '49 \"', '13 \"'],\n",
       " 'Mt Ashland': [],\n",
       " 'Mt Bachelor': ['223 \"', '66', '104 \"', '61 \"', '119 \"', '78 \"', '13 \"'],\n",
       " 'Mt Hood Meadows': ['333 \"', '65', '119 \"', '69 \"', '189 \"', '104 \"', '17 \"'],\n",
       " 'Mt Hood Skibowl': [],\n",
       " 'Timberline Lodge': [],\n",
       " 'Willamette Pass': ['20 \"', '16 \"', '36 \"', '29 \"'],\n",
       " 'Cooper Spur': ['3 \"', '2', '19 \"', '12 \"', '19 \"', '17 \"', '2 \"'],\n",
       " 'Spout Springs': ['13 \"', '4', '6 \"']}"
      ]
     },
     "execution_count": 14,
     "metadata": {},
     "output_type": "execute_result"
    }
   ],
   "source": [
    "state = states[10]\n",
    "with open(str(state) + \".pkl\", 'rb') as picklefile: \n",
    "    state = pickle.load(picklefile)\n",
    "state"
   ]
  },
  {
   "cell_type": "code",
   "execution_count": null,
   "metadata": {},
   "outputs": [],
   "source": []
  }
 ],
 "metadata": {
  "kernelspec": {
   "display_name": "Python 3",
   "language": "python",
   "name": "python3"
  },
  "language_info": {
   "codemirror_mode": {
    "name": "ipython",
    "version": 3
   },
   "file_extension": ".py",
   "mimetype": "text/x-python",
   "name": "python",
   "nbconvert_exporter": "python",
   "pygments_lexer": "ipython3",
   "version": "3.6.6"
  }
 },
 "nbformat": 4,
 "nbformat_minor": 2
}
